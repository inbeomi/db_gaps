{
 "cells": [
  {
   "cell_type": "code",
   "execution_count": 263,
   "metadata": {},
   "outputs": [],
   "source": [
    "import pandas as pd\n",
    "import numpy as np\n",
    "import matplotlib.pyplot as plt\n",
    "from scipy.optimize import minimize\n",
    "from constants import WEIGHT_CONSTRAINT, SECTOR, SECTOR_CONSTRAINT\n",
    "\n",
    "from pypfopt.plotting import plot_weights, plot_covariance\n",
    "\n",
    "# pd.reset_option('display.float_format')\n",
    "pd.options.display.float_format = lambda x: f'{x:.3f}'\n",
    "plt.rcParams['font.family'] = 'Malgun Gothic'"
   ]
  },
  {
   "cell_type": "code",
   "execution_count": 264,
   "metadata": {},
   "outputs": [],
   "source": [
    "def _allocation_risk(weights, covariances):\n",
    "\n",
    "    # 가중치 분포의 위험(포트폴리오 위험?)을 계산한다.\n",
    "    # 포트폴리오 위험의 값은 하나인데, [[x]] 같은 형태로 출력되므로 다음과 같이 작성하였다.\n",
    "    # 여기서 주의할 점은 weight는 matrix 형태이어야 한다. \n",
    "    portfolio_risk = np.sqrt((weights * covariances * weights.T))[0, 0]\n",
    "\n",
    "    # 포트폴리오 위험 값을 반환한다. \n",
    "    return portfolio_risk"
   ]
  },
  {
   "cell_type": "code",
   "execution_count": 265,
   "metadata": {},
   "outputs": [],
   "source": [
    "def _assets_risk_contribution_to_allocation_risk(weights, covariances):\n",
    "\n",
    "    # 가중치 분포의 위험(포트폴리오 위험?)을 계산한다.\n",
    "    portfolio_risk = _allocation_risk(weights, covariances)\n",
    "\n",
    "    # 가중치 분포의 위험(포트폴리오 위험)에 대한 각 자산의 기여도를 계산한다.\n",
    "    # 각 자산의 위험 기여도인 만큼 값의 자산의 개수만큼 생성된다. \n",
    "    # 여기서 주의할 점은 weight는 matrix 형태이어야 한다. \n",
    "    assets_risk_contribution = np.multiply(weights.T, covariances * weights.T) \\\n",
    "        / portfolio_risk\n",
    "\n",
    "    # 각 자산의 위험 기여도 값을 반환한다. \n",
    "    return assets_risk_contribution"
   ]
  },
  {
   "cell_type": "code",
   "execution_count": 266,
   "metadata": {},
   "outputs": [],
   "source": [
    "def _risk_budget_objective_error(weights, args):\n",
    "\n",
    "    # 공분산\n",
    "    covariances = args[0]\n",
    "\n",
    "    # 각 자산별 위험 예산\n",
    "    assets_risk_budget = args[1]\n",
    "\n",
    "    # 행렬로 바꿉니다. \n",
    "    weights = np.matrix(weights)\n",
    "\n",
    "    # 포트폴리오 위험 값\n",
    "    portfolio_risk = _allocation_risk(weights, covariances)\n",
    "\n",
    "    # 각 자산의 위험 기여도 값\n",
    "    assets_risk_contribution = \\\n",
    "        _assets_risk_contribution_to_allocation_risk(weights, covariances)\n",
    "\n",
    "    # 각 자산의 목표 위험 기여도 값\n",
    "    assets_risk_target = \\\n",
    "        np.asmatrix(np.multiply(portfolio_risk, assets_risk_budget))\n",
    "\n",
    "    # (각 자산의 목표 위험 기여도 - 각 자산의 현재 위험 기여도 값)의 SSE\n",
    "    error = \\\n",
    "        sum(np.square(assets_risk_contribution - assets_risk_target.T))[0, 0]\n",
    "\n",
    "    # SSE 값 반환\n",
    "    return error"
   ]
  },
  {
   "cell_type": "code",
   "execution_count": 267,
   "metadata": {},
   "outputs": [],
   "source": [
    "def sector_lower_limits(x, sector_name):\n",
    "    idx = np.where(np.array(list(SECTOR.values())) == sector_name)\n",
    "    return np.sum(x[idx]) - SECTOR_CONSTRAINT[sector_name][0]/100\n",
    "\n",
    "def sector_upper_limits(x, sector_name):\n",
    "    idx = np.where(np.array(list(SECTOR.values())) == sector_name)\n",
    "    return SECTOR_CONSTRAINT[sector_name][1]/100 - np.sum(x[idx])\n",
    "\n",
    "lower_limits = [c[0]/100 for c in WEIGHT_CONSTRAINT.values()]\n",
    "upper_limits = [c[1]/100 for c in WEIGHT_CONSTRAINT.values()]\n"
   ]
  },
  {
   "cell_type": "code",
   "execution_count": 268,
   "metadata": {},
   "outputs": [],
   "source": [
    "def _get_risk_parity_weights(covariances, assets_risk_budget, initial_weights):\n",
    "\n",
    "    # 최적화 과정에서 고려해야 할 제약 조건을 다음과 같이 설정합니다.\n",
    "    # 'eq': 등식(=0)을 의미함, 'ineq' : 부등식(≥0)을 의미합니다.\n",
    "    constraints = ({'type': 'ineq', 'fun': lambda x: 1.0 - np.sum(x)},\n",
    "\n",
    "                   # 각 상품군의 상하한선\n",
    "                   {'type': 'ineq', 'fun': lambda x: np.array(upper_limits) - x},\n",
    "                   {'type': 'ineq', 'fun': lambda x: x - np.array(lower_limits)},\n",
    "\n",
    "                    # 각 자산군의 상한선\n",
    "                   {'type': 'ineq', 'fun': lambda x: sector_upper_limits(x, \"local_stock\")},\n",
    "                   {'type': 'ineq', 'fun': lambda x: sector_upper_limits(x, \"foreign_stock\")},\n",
    "                   {'type': 'ineq', 'fun': lambda x: sector_upper_limits(x, \"bond\")},\n",
    "                   {'type': 'ineq', 'fun': lambda x: sector_upper_limits(x, \"commodity\")},\n",
    "                   {'type': 'ineq', 'fun': lambda x: sector_upper_limits(x, \"inverse\")},\n",
    "                   {'type': 'ineq', 'fun': lambda x: sector_upper_limits(x, \"fx\")},\n",
    "                   {'type': 'ineq', 'fun': lambda x: sector_upper_limits(x, \"cash\")},\n",
    "\n",
    "                   # 각 자산군의 하한선\n",
    "                   {'type': 'ineq', 'fun': lambda x: sector_lower_limits(x, \"local_stock\")},\n",
    "                   {'type': 'ineq', 'fun': lambda x: sector_lower_limits(x, \"foreign_stock\")},\n",
    "                   {'type': 'ineq', 'fun': lambda x: sector_lower_limits(x, \"bond\")},\n",
    "                   {'type': 'ineq', 'fun': lambda x: sector_lower_limits(x, \"commodity\")},\n",
    "                   {'type': 'ineq', 'fun': lambda x: sector_lower_limits(x, \"inverse\")},\n",
    "                   {'type': 'ineq', 'fun': lambda x: sector_lower_limits(x, \"fx\")},\n",
    "                   {'type': 'ineq', 'fun': lambda x: sector_lower_limits(x, \"cash\")},\n",
    "                   )\n",
    "\n",
    "    # ftol(반복 계산 시 종료를 위한 허용치)은 작게 할수록, \n",
    "    # maxiter는 크게 할수록 더 정확한 답을 찾으나 계샨량이 늘어납니다.\n",
    "    options = {'ftol': 1e-20, 'maxiter': 800}\n",
    "\n",
    "\n",
    "    # (각 자산의 목표 위험 기여도 - 각 자산의 현재 위험 기여도 값)의 SSE 값을 최소화하는 과정\n",
    "    optimize_result = minimize(fun=_risk_budget_objective_error,\n",
    "                               x0=initial_weights,\n",
    "                               args=[covariances, assets_risk_budget],\n",
    "                               method='SLSQP', # Sequential Least Squares Programming\n",
    "                               constraints=constraints,\n",
    "                               options=options)\n",
    "\n",
    "    # 최적화 과정에서 나온 가중치 값 저장\n",
    "    weights = optimize_result.x\n",
    "\n",
    "    # 최적 자산 비중치 반환\n",
    "    return weights, optimize_result"
   ]
  },
  {
   "cell_type": "code",
   "execution_count": 269,
   "metadata": {},
   "outputs": [],
   "source": [
    "def get_weights_with_result():\n",
    "\n",
    "    global prices, covariances\n",
    "    # data 폴더에 있는 수정주가 데이터를 불러옵니다. \n",
    "    prices = pd.read_csv(\"./data/adjclose.csv\", \n",
    "                         parse_dates=True, \n",
    "                         header=8, \n",
    "                         index_col='Name', \n",
    "                         skiprows=range(9, 14), \n",
    "                         thousands=',')       \n",
    "    prices.index.name = 'date'\n",
    "    prices = prices.astype(float)\n",
    "\n",
    "    # 주간 수익률을 기준으로 공분산을 구하고, 이를 연 단위로 바꿔줍니다.\n",
    "    covariances = 52.0 * \\\n",
    "        prices.asfreq('W-FRI').pct_change().dropna().cov().values\n",
    "\n",
    "    # 각 자산이 포트폴리오 위험에 기여하는 수준이 모두 동일하게 가져가기 위해 다음과 같이 설정합니다.\n",
    "    # 이 부분을 변경하면 각 자산이 포트폴리오 위험에 기여하는 수준을 필요에 맞게 맞춰줄 수 있습니다. \n",
    "    # prices.shape[1] = 자산의 개수\n",
    "    assets_risk_budget = [1 / prices.shape[1]] * prices.shape[1]\n",
    "\n",
    "    # 초기 비중을 모두 동일하게 가져갑니다. \n",
    "    init_weights = [1 / prices.shape[1]] * prices.shape[1]\n",
    "\n",
    "    # 리스크 패리티 전략에 맞게 자산 비중의 최적화를 진행합니다.\n",
    "    # 최초 비중, 각 자산의 위험 예산, 공분산 값을 통해 리스크 패리티 전략에 따른 각 자산의 비중을 구합니다. \n",
    "    weights, optimize_result = \\\n",
    "        _get_risk_parity_weights(covariances, assets_risk_budget, init_weights)\n",
    "\n",
    "    # 각 자산 비중을 판다스 시리즈 형태로 전환합니다.\n",
    "    weights = pd.Series(weights, index=prices.columns, name='weight')\n",
    "\n",
    "    # 최적의 비중을 반환합니다. \n",
    "    return weights, optimize_result"
   ]
  },
  {
   "cell_type": "code",
   "execution_count": 270,
   "metadata": {},
   "outputs": [],
   "source": [
    "n_weights, n_optimize_result = get_weights_with_result()"
   ]
  },
  {
   "cell_type": "code",
   "execution_count": 271,
   "metadata": {},
   "outputs": [],
   "source": [
    "result_risk_contribution = _assets_risk_contribution_to_allocation_risk(np.matrix(n_weights.values), covariances)\n",
    "result_risk_contribution = pd.Series(np.array(result_risk_contribution).squeeze(), index=prices.columns, name='risk_contribution')\n",
    "result_portfolio_risk = _allocation_risk(np.matrix(n_weights.values), covariances)"
   ]
  },
  {
   "cell_type": "code",
   "execution_count": 272,
   "metadata": {},
   "outputs": [
    {
     "data": {
      "text/plain": [
       "     fun: 8.474192282623144e-05\n",
       "     jac: array([ 1.80928648e-03,  1.80928649e-03,  3.51378685e-05,  3.51378640e-05,\n",
       "        3.51378758e-05,  3.51378658e-05, -2.45791271e-05, -2.45791243e-05,\n",
       "       -2.45791225e-05, -1.05506206e-06, -1.05505660e-06,  7.87451719e-04,\n",
       "        2.37736789e-04, -1.05506388e-06, -1.05506570e-06])\n",
       " message: 'Optimization terminated successfully'\n",
       "    nfev: 3687\n",
       "     nit: 190\n",
       "    njev: 186\n",
       "  status: 0\n",
       " success: True\n",
       "       x: array([ 5.59686311e-02,  4.40313689e-02,  2.35653718e-02,  2.13157835e-02,\n",
       "        2.15502514e-02,  3.35685933e-02,  2.92544429e-01,  2.45091945e-01,\n",
       "        6.23636265e-02,  5.69443537e-02,  2.08192360e-02, -3.97806015e-20,\n",
       "        8.74715537e-19,  6.78815884e-02,  5.43548219e-02])"
      ]
     },
     "execution_count": 272,
     "metadata": {},
     "output_type": "execute_result"
    }
   ],
   "source": [
    "n_optimize_result"
   ]
  },
  {
   "cell_type": "code",
   "execution_count": 275,
   "metadata": {},
   "outputs": [
    {
     "data": {
      "text/plain": [
       "<AxesSubplot:xlabel='Weight'>"
      ]
     },
     "execution_count": 275,
     "metadata": {},
     "output_type": "execute_result"
    },
    {
     "data": {
      "image/png": "[encoded data removed]",
      "text/plain": [
       "<Figure size 432x288 with 1 Axes>"
      ]
     },
     "metadata": {
      "needs_background": "light"
     },
     "output_type": "display_data"
    }
   ],
   "source": [
    "plot_weights(n_weights)\n",
    "# pd.DataFrame(n_weights).plot(kind='bar')"
   ]
  },
  {
   "cell_type": "code",
   "execution_count": 276,
   "metadata": {},
   "outputs": [
    {
     "data": {
      "text/plain": [
       "<AxesSubplot:>"
      ]
     },
     "execution_count": 276,
     "metadata": {},
     "output_type": "execute_result"
    },
    {
     "data": {
      "image/png": "[encoded data removed]",
      "text/plain": [
       "<Figure size 432x288 with 1 Axes>"
      ]
     },
     "metadata": {
      "needs_background": "light"
     },
     "output_type": "display_data"
    }
   ],
   "source": [
    "pd.DataFrame(result_risk_contribution).plot(kind='bar')"
   ]
  },
  {
   "cell_type": "code",
   "execution_count": null,
   "metadata": {},
   "outputs": [],
   "source": []
  }
 ],
 "metadata": {
  "interpreter": {
   "hash": "ebfa6d9546ff94a7c06750c1f8f71399068f320388629a240750eaedbb244e6f"
  },
  "kernelspec": {
   "display_name": "Python 3.7.13 ('db_gaps')",
   "language": "python",
   "name": "python3"
  },
  "language_info": {
   "codemirror_mode": {
    "name": "ipython",
    "version": 3
   },
   "file_extension": ".py",
   "mimetype": "text/x-python",
   "name": "python",
   "nbconvert_exporter": "python",
   "pygments_lexer": "ipython3",
   "version": "3.7.13"
  },
  "orig_nbformat": 4
 },
 "nbformat": 4,
 "nbformat_minor": 2
}
